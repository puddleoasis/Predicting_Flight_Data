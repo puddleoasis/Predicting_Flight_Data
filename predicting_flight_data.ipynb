{
 "cells": [
  {
   "cell_type": "code",
   "execution_count": 1,
   "metadata": {},
   "outputs": [],
   "source": [
    "import torch\n",
    "import torch.nn as nn\n",
    "\n",
    "import seaborn as sns\n",
    "import numpy as np\n",
    "import pandas as pd\n",
    "import matplotlib.pyplot as plt\n",
    "import matplotlib.dates as mdates\n",
    "from datetime import timedelta\n",
    "%matplotlib inline\n",
    "\n",
    "from sklearn.preprocessing import MinMaxScaler"
   ]
  },
  {
   "cell_type": "code",
   "execution_count": null,
   "metadata": {},
   "outputs": [],
   "source": []
  },
  {
   "cell_type": "markdown",
   "metadata": {},
   "source": [
    "#### Helper Plot Functions"
   ]
  },
  {
   "cell_type": "code",
   "execution_count": 2,
   "metadata": {},
   "outputs": [],
   "source": [
    "def datetime_plot(plot_items, figsize=(15, 5)):\n",
    "    ''''Plots multiple datetime data given a timeseries range and values to plot.'''\n",
    "    \n",
    "    year_locator = mdates.YearLocator()\n",
    "    month_locator = mdates.MonthLocator(bymonth=range(1,12,3))\n",
    "    # note: the interval arg rather than bymonth messes up the major and minor fmting\n",
    "    \n",
    "    years_fmt = mdates.DateFormatter('%Y %b')\n",
    "    months_fmt = mdates.DateFormatter('%b')\n",
    "\n",
    "    fig, ax = plt.subplots(figsize=figsize)\n",
    "    ax.set(xlabel='Date',\n",
    "           ylabel='Passengers',\n",
    "           title='Number of Passengers by Month')\n",
    "    \n",
    "    #the actual plotting of items\n",
    "    for datetimes, values in plot_items:\n",
    "        ax.plot(datetimes, values)\n",
    "    \n",
    "    #autoscales to daterange\n",
    "    ax.autoscale(axis='x', tight=True)\n",
    "    \n",
    "    #set x axis minor tic values and format\n",
    "    ax.xaxis.set_minor_locator(month_locator)\n",
    "    ax.xaxis.set_minor_formatter(months_fmt)\n",
    "    \n",
    "    #set x axis major tic values and format\n",
    "    ax.xaxis.set_major_locator(year_locator)\n",
    "    ax.xaxis.set_major_formatter(years_fmt)\n",
    "    \n",
    "    #rotate x axis labels\n",
    "    plt.setp(ax.xaxis.get_minorticklabels(), rotation=90)\n",
    "    plt.setp(ax.xaxis.get_majorticklabels(), rotation=90)\n",
    "    \n",
    "    plt.show()"
   ]
  },
  {
   "cell_type": "markdown",
   "metadata": {},
   "source": [
    "## Load Flight Data"
   ]
  },
  {
   "cell_type": "code",
   "execution_count": 3,
   "metadata": {},
   "outputs": [
    {
     "data": {
      "text/html": [
       "<div>\n",
       "<style scoped>\n",
       "    .dataframe tbody tr th:only-of-type {\n",
       "        vertical-align: middle;\n",
       "    }\n",
       "\n",
       "    .dataframe tbody tr th {\n",
       "        vertical-align: top;\n",
       "    }\n",
       "\n",
       "    .dataframe thead th {\n",
       "        text-align: right;\n",
       "    }\n",
       "</style>\n",
       "<table border=\"1\" class=\"dataframe\">\n",
       "  <thead>\n",
       "    <tr style=\"text-align: right;\">\n",
       "      <th></th>\n",
       "      <th>passengers</th>\n",
       "      <th>datetime</th>\n",
       "    </tr>\n",
       "  </thead>\n",
       "  <tbody>\n",
       "    <tr>\n",
       "      <th>0</th>\n",
       "      <td>112</td>\n",
       "      <td>1949-01-01</td>\n",
       "    </tr>\n",
       "    <tr>\n",
       "      <th>1</th>\n",
       "      <td>118</td>\n",
       "      <td>1949-02-01</td>\n",
       "    </tr>\n",
       "    <tr>\n",
       "      <th>2</th>\n",
       "      <td>132</td>\n",
       "      <td>1949-03-01</td>\n",
       "    </tr>\n",
       "    <tr>\n",
       "      <th>3</th>\n",
       "      <td>129</td>\n",
       "      <td>1949-04-01</td>\n",
       "    </tr>\n",
       "    <tr>\n",
       "      <th>4</th>\n",
       "      <td>121</td>\n",
       "      <td>1949-05-01</td>\n",
       "    </tr>\n",
       "  </tbody>\n",
       "</table>\n",
       "</div>"
      ],
      "text/plain": [
       "   passengers   datetime\n",
       "0         112 1949-01-01\n",
       "1         118 1949-02-01\n",
       "2         132 1949-03-01\n",
       "3         129 1949-04-01\n",
       "4         121 1949-05-01"
      ]
     },
     "execution_count": 3,
     "metadata": {},
     "output_type": "execute_result"
    }
   ],
   "source": [
    "'''Raw Data Load'''\n",
    "flight_data = sns.load_dataset(\"flights\")\n",
    "flight_data['datetime'] = pd.to_datetime(flight_data.year.astype(str) + flight_data.month.astype(str), format='%Y%b')\n",
    "flight_data = flight_data[['passengers', 'datetime']]\n",
    "flight_data.head()"
   ]
  },
  {
   "cell_type": "code",
   "execution_count": 4,
   "metadata": {},
   "outputs": [
    {
     "data": {
      "text/plain": [
       "passengers    144\n",
       "datetime      144\n",
       "dtype: int64"
      ]
     },
     "execution_count": 4,
     "metadata": {},
     "output_type": "execute_result"
    }
   ],
   "source": [
    "flight_data.count()"
   ]
  },
  {
   "cell_type": "code",
   "execution_count": 5,
   "metadata": {},
   "outputs": [
    {
     "data": {
      "image/png": "[encoded data removed]",
      "text/plain": [
       "<Figure size 1080x360 with 1 Axes>"
      ]
     },
     "metadata": {
      "needs_background": "light"
     },
     "output_type": "display_data"
    }
   ],
   "source": [
    "'''Plot Raw Data'''\n",
    "datetime_plot([[flight_data.datetime, flight_data.passengers]])"
   ]
  },
  {
   "cell_type": "markdown",
   "metadata": {},
   "source": [
    "## Create Train / Test Data Split"
   ]
  },
  {
   "cell_type": "code",
   "execution_count": 6,
   "metadata": {},
   "outputs": [],
   "source": [
    "all_data = flight_data['passengers'].values.astype(float)"
   ]
  },
  {
   "cell_type": "code",
   "execution_count": 7,
   "metadata": {},
   "outputs": [
    {
     "data": {
      "text/plain": [
       "(array([112., 118., 132., 129., 121., 135., 148., 148., 136., 119., 104.,\n",
       "        118., 115., 126., 141., 135., 125., 149., 170., 170., 158., 133.,\n",
       "        114., 140., 145., 150., 178., 163., 172., 178., 199., 199., 184.,\n",
       "        162., 146., 166., 171., 180., 193., 181., 183., 218., 230., 242.,\n",
       "        209., 191., 172., 194., 196., 196., 236., 235., 229., 243., 264.,\n",
       "        272., 237., 211., 180., 201., 204., 188., 235., 227., 234., 264.,\n",
       "        302., 293., 259., 229., 203., 229., 242., 233., 267., 269., 270.,\n",
       "        315., 364., 347., 312., 274., 237., 278., 284., 277., 317., 313.,\n",
       "        318., 374., 413., 405., 355., 306., 271., 306., 315., 301., 356.,\n",
       "        348., 355., 422., 465., 467., 404., 347., 305., 336., 340., 318.,\n",
       "        362., 348., 363., 435., 491., 505., 404., 359., 310., 337., 360.,\n",
       "        342., 406., 396., 420., 472., 548., 559., 463., 407., 362., 405.,\n",
       "        417., 391., 419., 461., 472., 535., 622., 606., 508., 461., 390.,\n",
       "        432.]),\n",
       " 144)"
      ]
     },
     "execution_count": 7,
     "metadata": {},
     "output_type": "execute_result"
    }
   ],
   "source": [
    "all_data, len(all_data)"
   ]
  },
  {
   "cell_type": "code",
   "execution_count": 8,
   "metadata": {},
   "outputs": [],
   "source": [
    "window_size = 12\n",
    "\n",
    "train_data = all_data[:-window_size]\n",
    "test_data = all_data[-window_size:]"
   ]
  },
  {
   "cell_type": "code",
   "execution_count": 9,
   "metadata": {},
   "outputs": [
    {
     "name": "stdout",
     "output_type": "stream",
     "text": [
      "132\n",
      "12\n"
     ]
    }
   ],
   "source": [
    "print(len(train_data))\n",
    "print(len(test_data))"
   ]
  },
  {
   "cell_type": "markdown",
   "metadata": {},
   "source": [
    "## Scale Data"
   ]
  },
  {
   "cell_type": "code",
   "execution_count": 10,
   "metadata": {},
   "outputs": [],
   "source": [
    "scaler = MinMaxScaler(feature_range=(-1, 1))\n",
    "train_data_normalized = scaler.fit_transform(train_data.reshape(-1, 1))\n",
    "train_norm_tensor = torch.FloatTensor(train_data_normalized).view(-1)"
   ]
  },
  {
   "cell_type": "code",
   "execution_count": 11,
   "metadata": {},
   "outputs": [
    {
     "name": "stdout",
     "output_type": "stream",
     "text": [
      "tensor([-0.9648, -0.9385, -0.8769, -0.8901, -0.9253, -0.8637, -0.8066, -0.8066,\n",
      "        -0.8593, -0.9341, -1.0000, -0.9385, -0.9516])\n",
      "tensor([-0.9648, -0.9385, -0.8769, -0.8901, -0.9253, -0.8637, -0.8066, -0.8066,\n",
      "        -0.8593, -0.9341, -1.0000, -0.9385])\n",
      "tensor(-0.9516)\n"
     ]
    }
   ],
   "source": [
    "'''Take a look at the data we have just transformed'''\n",
    "print(train_norm_tensor[:13])\n",
    "print(train_norm_tensor[:12])\n",
    "print(train_norm_tensor[12])"
   ]
  },
  {
   "cell_type": "code",
   "execution_count": null,
   "metadata": {},
   "outputs": [],
   "source": []
  },
  {
   "cell_type": "markdown",
   "metadata": {},
   "source": [
    "## Choose window size and create inout sequences\n",
    "An inout sequence is the data used for the prediction i.e. a window size of data used for a prediction, and the target i.e. the prediction we are making: the number of passengers for a future month.\n",
    "\n",
    "The ranges of the window and the target are arbitrary. The range of the target come from the question we are attempting to answer with the model. Both ranges will affect the architecture of the model, as well as the model's performance."
   ]
  },
  {
   "cell_type": "code",
   "execution_count": null,
   "metadata": {},
   "outputs": [],
   "source": []
  },
  {
   "cell_type": "code",
   "execution_count": 12,
   "metadata": {},
   "outputs": [],
   "source": [
    "def create_inout_sequences(input_tensor, tw):\n",
    "    '''\n",
    "        accepts input data, returns a list of tuples\n",
    "        ([passangers in month 1, ..., passangers in month tw], passangers in month tw + 1)\n",
    "    '''\n",
    "    inout_seq = []\n",
    "    L = len(input_tensor)\n",
    "    for i in range(L-tw):\n",
    "        train_seq = input_tensor[i:i+tw]\n",
    "        train_label = input_tensor[i+tw]\n",
    "        inout_seq.append((train_seq, train_label))\n",
    "    return inout_seq\n"
   ]
  },
  {
   "cell_type": "code",
   "execution_count": 13,
   "metadata": {},
   "outputs": [
    {
     "name": "stdout",
     "output_type": "stream",
     "text": [
      "Example inout seq:\n",
      "\tin:\ttensor([-0.9648, -0.9385, -0.8769, -0.8901, -0.9253, -0.8637, -0.8066, -0.8066,\n",
      "        -0.8593, -0.9341, -1.0000, -0.9385])\n",
      "\tout:\t-0.9384615421295166\n"
     ]
    }
   ],
   "source": [
    "train_inout_seq = create_inout_sequences(train_norm_tensor, window_size)\n",
    "\n",
    "print(f'Example inout seq:\\n\\tin:\\t{train_inout_seq[0][0]}\\n\\tout:\\t{train_inout_seq[0][0][1]}')"
   ]
  },
  {
   "cell_type": "code",
   "execution_count": null,
   "metadata": {},
   "outputs": [],
   "source": []
  },
  {
   "cell_type": "markdown",
   "metadata": {},
   "source": [
    "### Define the model architecture"
   ]
  },
  {
   "cell_type": "code",
   "execution_count": 14,
   "metadata": {},
   "outputs": [],
   "source": [
    "class LSTM(nn.Module):\n",
    "    '''Contructor for the LSTM class. Inherits from pytorch nn.\n",
    "    \n",
    "        input_size\n",
    "            is the number of features in the input. (e.g. the one feature: total number of passengers)\n",
    "        hidden_size\n",
    "            is the number of features in the hidden state h (the internal state.)\n",
    "        output_size this is the length of the prediction. (e.g. the number of days we are predicting in the future)\n",
    "            it is the size of the linear layer.\n",
    "        \n",
    "        the linear layer transforms the dimensions of the feature space (i.e. the size of the tensor)\n",
    "    '''\n",
    "    def __init__(self, input_size=1, hidden_size=100, output_size=1):\n",
    "        super().__init__()\n",
    "        self.hidden_size = hidden_size\n",
    "\n",
    "        self.lstm = nn.LSTM(input_size, hidden_size)\n",
    "\n",
    "        self.linear = nn.Linear(hidden_size, output_size)\n",
    "\n",
    "        self.hidden_cell = (torch.zeros(1,1,self.hidden_size),\n",
    "                            torch.zeros(1,1,self.hidden_size))\n",
    "\n",
    "    def forward(self, input_seq):\n",
    "        lstm_out, self.hidden_cell = self.lstm(input_seq.view(len(input_seq), 1, -1), self.hidden_cell)\n",
    "        predictions = self.linear(lstm_out.view(len(input_seq), -1))\n",
    "        return predictions[-1][0]"
   ]
  },
  {
   "cell_type": "markdown",
   "metadata": {},
   "source": [
    "MSE is a standard loss function for regression problems.\n",
    "It encourages small mistakes and penalizes large mistakes.\n",
    "MSE is defined by:\n",
    "\n",
    "$$MSE = \\sum \\hat{P} - Y$$\n",
    "\n",
    "Where $\\hat{P}$ is the predicted value, and $Y$ is the target."
   ]
  },
  {
   "cell_type": "code",
   "execution_count": 58,
   "metadata": {},
   "outputs": [],
   "source": [
    "model = LSTM(hidden_size=250)\n",
    "loss_function = nn.MSELoss()\n",
    "optimizer = torch.optim.Adam(model.parameters(), lr=0.001)"
   ]
  },
  {
   "cell_type": "code",
   "execution_count": 59,
   "metadata": {},
   "outputs": [
    {
     "name": "stdout",
     "output_type": "stream",
     "text": [
      "LSTM(\n",
      "  (lstm): LSTM(1, 250)\n",
      "  (linear): Linear(in_features=250, out_features=1, bias=True)\n",
      ")\n"
     ]
    }
   ],
   "source": [
    "print(model)"
   ]
  },
  {
   "cell_type": "markdown",
   "metadata": {},
   "source": [
    "### Training"
   ]
  },
  {
   "cell_type": "code",
   "execution_count": 60,
   "metadata": {},
   "outputs": [
    {
     "name": "stdout",
     "output_type": "stream",
     "text": [
      "epoch:   0 loss: 0.03508664\n",
      "epoch:  25 loss: 0.00091767\n",
      "epoch:  50 loss: 0.00165242\n",
      "epoch:  75 loss: 0.01234953\n",
      "epoch: 100 loss: 0.00149220\n",
      "epoch: 125 loss: 0.00009721\n",
      "epoch: 149 loss: 0.0074790260\n"
     ]
    }
   ],
   "source": [
    "epochs = 150\n",
    "\n",
    "for i in range(epochs):\n",
    "    for in_seq, target in train_inout_seq:\n",
    "        optimizer.zero_grad()\n",
    "        model.hidden_cell = (torch.zeros(1, 1, model.hidden_size),\n",
    "                        torch.zeros(1, 1, model.hidden_size))\n",
    "\n",
    "        pred = model(in_seq)\n",
    "        loss = loss_function(pred, target)\n",
    "        \n",
    "        loss.backward()\n",
    "        optimizer.step()\n",
    "\n",
    "    if i%25 == 0:\n",
    "        print(f'epoch: {i:3} loss: {loss.item():10.8f}')\n",
    "\n",
    "print(f'epoch: {i:3} loss: {loss.item():10.10f}')"
   ]
  },
  {
   "cell_type": "code",
   "execution_count": null,
   "metadata": {},
   "outputs": [],
   "source": []
  },
  {
   "cell_type": "markdown",
   "metadata": {},
   "source": [
    "## Using the model to make predictions\n"
   ]
  },
  {
   "cell_type": "markdown",
   "metadata": {},
   "source": [
    "We now take the last 12 months of data, the testing data, separated out from the training data at the begining of the notebook, and use the trained model to make predictions.\n",
    "\n",
    "The process to do this is, using the last 12 months of training data, we predict the 13 month of data. Now, using the last 11 months of data and the newly predicted 13th month of data, we predict the 14th month. This process repeats until we have 12 months of entirely predicted data.\n",
    "\n",
    "We will then compare these 12 predicted months with the actual 12 months of data that was set aside."
   ]
  },
  {
   "cell_type": "code",
   "execution_count": 61,
   "metadata": {},
   "outputs": [
    {
     "name": "stdout",
     "output_type": "stream",
     "text": [
      "[0.12527473270893097, 0.04615384712815285, 0.3274725377559662, 0.2835164964199066, 0.3890109956264496, 0.6175824403762817, 0.9516483545303345, 1.0, 0.5780220031738281, 0.33186814188957214, 0.13406594097614288, 0.32307693362236023]\n"
     ]
    }
   ],
   "source": [
    "#get the last 12 months from the training data\n",
    "test_inputs = train_norm_tensor[-window_size:].tolist()\n",
    "# print(test_inputs)"
   ]
  },
  {
   "cell_type": "code",
   "execution_count": 62,
   "metadata": {},
   "outputs": [],
   "source": [
    "model.eval()\n",
    "for i in range(window_size):\n",
    "    seq = torch.FloatTensor(test_inputs)\n",
    "    #using no grad bc we dont need to compute the gradient for using the model.\n",
    "    with torch.no_grad():\n",
    "        model.hidden = (torch.zeros(1, 1, model.hidden_size),\n",
    "                        torch.zeros(1, 1, model.hidden_size))\n",
    "        test_inputs.append(model(seq).item())"
   ]
  },
  {
   "cell_type": "code",
   "execution_count": 63,
   "metadata": {},
   "outputs": [
    {
     "name": "stdout",
     "output_type": "stream",
     "text": [
      "[[394.82661733]\n",
      " [378.38033987]\n",
      " [416.61841491]\n",
      " [417.57907712]\n",
      " [454.85824937]\n",
      " [589.34214556]\n",
      " [670.00593269]\n",
      " [595.83616519]\n",
      " [456.24374816]\n",
      " [365.72073875]\n",
      " [393.22871381]\n",
      " [442.89655724]]\n"
     ]
    }
   ],
   "source": [
    "#get the 12 months of data that was just predicted (these values are in the range (0, 1))\n",
    "predictions = np.array(test_inputs[window_size:])\n",
    "\n",
    "#transform the predicted values to their actual values\n",
    "actual_predictions = scaler.inverse_transform(predictions.reshape(-1, 1))\n",
    "# print(actual_predictions)"
   ]
  },
  {
   "cell_type": "code",
   "execution_count": null,
   "metadata": {},
   "outputs": [],
   "source": []
  },
  {
   "cell_type": "code",
   "execution_count": 64,
   "metadata": {},
   "outputs": [
    {
     "name": "stdout",
     "output_type": "stream",
     "text": [
      "132   1960-01-01\n",
      "133   1960-02-01\n",
      "134   1960-03-01\n",
      "135   1960-04-01\n",
      "136   1960-05-01\n",
      "137   1960-06-01\n",
      "138   1960-07-01\n",
      "139   1960-08-01\n",
      "140   1960-09-01\n",
      "141   1960-10-01\n",
      "142   1960-11-01\n",
      "143   1960-12-01\n",
      "Name: datetime, dtype: datetime64[ns]\n"
     ]
    }
   ],
   "source": [
    "'''Artificially create the daterange for the months that we just predicted'''\n",
    "predictions_daterange = flight_data.datetime[-window_size:]\n",
    "# print(predictions_daterange)"
   ]
  },
  {
   "cell_type": "markdown",
   "metadata": {},
   "source": [
    "### Ploting Data and Predictions\n",
    "#### Plotting the origional dataset in blue, and the predicted values for the last 12 months in orange."
   ]
  },
  {
   "cell_type": "code",
   "execution_count": 65,
   "metadata": {},
   "outputs": [
    {
     "data": {
      "image/png": "[encoded data removed]",
      "text/plain": [
       "<Figure size 1080x360 with 1 Axes>"
      ]
     },
     "metadata": {
      "needs_background": "light"
     },
     "output_type": "display_data"
    }
   ],
   "source": [
    "datetime_plot([\n",
    "    (flight_data.datetime, flight_data.passengers),\n",
    "    (predictions_daterange, actual_predictions)\n",
    "    ])"
   ]
  },
  {
   "cell_type": "markdown",
   "metadata": {},
   "source": [
    "## Observations:\n",
    "### We see the model vaugley captures the trend in seasonality. Observing the raw data, we see that the total number of passengers has an upwards climb peaking in July, and then the number of passengers decreases hitting its annual low point around October / November. Year by year, the total number of passengers increases following this seasonal trend."
   ]
  },
  {
   "cell_type": "markdown",
   "metadata": {},
   "source": [
    "## Conclusions:\n",
    "\n",
    "### This project is a small introduction to building LSTM models in PyTorch. I learned how to define an LSTM network and use it to make predictions on time series data.\n",
    "\n",
    "### I observed adding more hidden states and hyperparamater tuning including training for a more epochs will improve the models accuracy.\n",
    "\n",
    "### While the predicted values did not perfectly allign with the actual values, it should be noted that more data, a longer training window, and more features about the flights or related airline info may give the model more information upon which to train and make predictions."
   ]
  },
  {
   "cell_type": "markdown",
   "metadata": {},
   "source": [
    "## Farewell\n",
    "### I hope this provided you with some basic insights in LSTM architecture and things to consider while working with time series data."
   ]
  },
  {
   "cell_type": "code",
   "execution_count": null,
   "metadata": {},
   "outputs": [],
   "source": []
  }
 ],
 "metadata": {
  "kernelspec": {
   "display_name": "Python 3 (ipykernel)",
   "language": "python",
   "name": "python3"
  },
  "language_info": {
   "codemirror_mode": {
    "name": "ipython",
    "version": 3
   },
   "file_extension": ".py",
   "mimetype": "text/x-python",
   "name": "python",
   "nbconvert_exporter": "python",
   "pygments_lexer": "ipython3",
   "version": "3.8.12"
  }
 },
 "nbformat": 4,
 "nbformat_minor": 4
}
